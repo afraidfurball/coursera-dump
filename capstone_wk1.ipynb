import numpy as np
import pandas as pd
#used for coursera IBM cert 9w1

print('hello github')
